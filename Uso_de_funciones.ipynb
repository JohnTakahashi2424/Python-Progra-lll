{
  "nbformat": 4,
  "nbformat_minor": 0,
  "metadata": {
    "colab": {
      "provenance": [],
      "authorship_tag": "ABX9TyO6zFY1dp+QLm3oGLpeTInW",
      "include_colab_link": true
    },
    "kernelspec": {
      "name": "python3",
      "display_name": "Python 3"
    },
    "language_info": {
      "name": "python"
    }
  },
  "cells": [
    {
      "cell_type": "markdown",
      "metadata": {
        "id": "view-in-github",
        "colab_type": "text"
      },
      "source": [
        "<a href=\"https://colab.research.google.com/github/JohnTakahashi2424/Python-Progra-lll/blob/main/Uso_de_funciones.ipynb\" target=\"_parent\"><img src=\"https://colab.research.google.com/assets/colab-badge.svg\" alt=\"Open In Colab\"/></a>"
      ]
    },
    {
      "cell_type": "code",
      "execution_count": null,
      "metadata": {
        "id": "FV2nXebxb7PR"
      },
      "outputs": [],
      "source": [
        "print(\"Hola Mundo\")\n",
        "print(\"Bienvenidos a Programacion computacional III\")"
      ]
    },
    {
      "cell_type": "code",
      "source": [
        "Nombre = 'La variable es:'\n",
        "edad = 5\n",
        "print('hola', Nombre)\n",
        "\n",
        "print(\"edad\")\n",
        "print(\"tu edad:\", edad)"
      ],
      "metadata": {
        "id": "R_r9v88_dRC2"
      },
      "execution_count": null,
      "outputs": []
    },
    {
      "cell_type": "code",
      "source": [
        "\n",
        "#Esto es una suma de dos numeros\n",
        "\n",
        "num1 = None\n",
        "num2 = None\n",
        "\n",
        "num1 = int(input(\"ingrese el primer numero de la suma: \"))\n",
        "num2 = int(input(\"Ingrese el segundo numero de la suma: \"))\n",
        "\n",
        "Respuesta = num1 + num2\n",
        "\n",
        "print(\"la respuesta de la suma es:\", Respuesta)\n",
        "print(\"tenga un buen dia :D\")\n",
        "\n",
        "#Esto es una resta de dos numeros\n",
        "\n",
        "a = None\n",
        "b = None\n",
        "\n",
        "a = int(input(\"Ingrese el primer numero para la resta: \"))\n",
        "b = int(input(\"ingrese el segunfo numero de la resta: \"))\n",
        "\n",
        "Respuesta = a - b\n",
        "\n",
        "print(\"la respuesta de la resta es: \", Respuesta)\n",
        "print(\"listo, definitivamente tenga un buen dia, ahora puede irse a la chingada\")"
      ],
      "metadata": {
        "id": "jxbOXCuDewG9"
      },
      "execution_count": null,
      "outputs": []
    },
    {
      "cell_type": "code",
      "source": [],
      "metadata": {
        "id": "VdfHlScjh3BI"
      },
      "execution_count": null,
      "outputs": []
    },
    {
      "cell_type": "code",
      "metadata": {
        "id": "7d172761"
      },
      "source": [
        "# Example 1: Basic arithmetic operations\n",
        "x = 10\n",
        "y = 5\n",
        "print(\"Sum:\", x + y)\n",
        "print(\"Difference:\", x - y)\n",
        "print(\"Product:\", x * y)\n",
        "print(\"Division:\", x / y)"
      ],
      "execution_count": null,
      "outputs": []
    },
    {
      "cell_type": "code",
      "metadata": {
        "id": "d48ed9c7"
      },
      "source": [
        "# Example 2: Using loops\n",
        "print(\"Counting from 1 to 5:\")\n",
        "for i in range(1, 6):\n",
        "  print(i)\n",
        "\n",
        "print(\"\\nPrinting elements in a list:\")\n",
        "fruits = [\"apple\", \"banana\", \"cherry\"]\n",
        "for fruit in fruits:\n",
        "  print(fruit)"
      ],
      "execution_count": null,
      "outputs": []
    },
    {
      "cell_type": "code",
      "metadata": {
        "id": "9875f8e7"
      },
      "source": [
        "# Example 3: Using conditional statements\n",
        "temperature = 25\n",
        "\n",
        "if temperature > 30:\n",
        "  print(\"It's hot!\")\n",
        "elif temperature > 20:\n",
        "  print(\"It's warm.\")\n",
        "else:\n",
        "  print(\"It's cool.\")\n"
      ],
      "execution_count": null,
      "outputs": []
    },
    {
      "cell_type": "code",
      "source": [
        "print(\"Hola\")\n",
        "Edad  = None\n",
        "Edad  = input(\"Ingrese su edad: \")\n",
        "print(\"Su edad es:\", Edad)\n",
        "\n",
        "#Decimal\n",
        "Numero = 6.8"
      ],
      "metadata": {
        "id": "XzcwsK9cKyxY",
        "collapsed": true
      },
      "execution_count": null,
      "outputs": []
    },
    {
      "cell_type": "code",
      "source": [
        "#Restas\n",
        "res1 = int(input(\"ingrese el primer numero: \"))\n",
        "res2 = int(input(\"ingrese el segundo numero: \"))\n",
        "\n",
        "Respuesta = res1 - res2\n",
        "print(\"la resta de los numeros es:\", Respuesta)\n",
        "\n"
      ],
      "metadata": {
        "id": "Xcqr_XDDYbRH"
      },
      "execution_count": null,
      "outputs": []
    },
    {
      "cell_type": "code",
      "source": [
        "def restar_dos_numeros():\n",
        "    num1 = int(input(\"Ingrese el primer número: \"))\n",
        "    num2 = int(input(\"Ingrese el segundo número: \"))\n",
        "    return num1 - num2\n",
        "\n",
        "# Usando el resultado\n",
        "resultado = restar_dos_numeros()\n",
        "print(\"La resta de los números es:\", resultado)\n"
      ],
      "metadata": {
        "id": "lFodxvzAZo1-"
      },
      "execution_count": null,
      "outputs": []
    },
    {
      "cell_type": "code",
      "source": [
        "#Hacer un ejercicio en python haciendo uso de funciones de usuario. Convertir grados celcius a Farenheit\n",
        "\n",
        "def CelciusaFarenheit(c):\n",
        "  return c*1.8 + 32"
      ],
      "metadata": {
        "id": "H_RhnXSjVMxV"
      },
      "execution_count": null,
      "outputs": []
    },
    {
      "cell_type": "code",
      "source": [
        "c = int(input(\"Grados c: \"))\n",
        "f = CelciusaFarenheit(c)\n",
        "print(\"F: \", f)"
      ],
      "metadata": {
        "colab": {
          "base_uri": "https://localhost:8080/"
        },
        "id": "FY_-rnJBYZix",
        "outputId": "cc439971-b376-4896-ec09-233e4a3ed971"
      },
      "execution_count": null,
      "outputs": [
        {
          "output_type": "stream",
          "name": "stdout",
          "text": [
            "Grados c: 6\n",
            "F:  42.8\n"
          ]
        }
      ]
    },
    {
      "cell_type": "code",
      "metadata": {
        "id": "681d3266"
      },
      "source": [
        "# Hacer un ejercicio que convierta los grados Farenheit a Celsius\n",
        "\n",
        "def FarenheitCelsius(f):\n",
        "  return (f - 32) * 5/9"
      ],
      "execution_count": 25,
      "outputs": []
    },
    {
      "cell_type": "code",
      "source": [
        "f = float(input(\"Grados f: \"))\n",
        "c = FarenheitCelsius(f)\n",
        "print(\"C: \", c)"
      ],
      "metadata": {
        "colab": {
          "base_uri": "https://localhost:8080/"
        },
        "id": "58KkdALObAPL",
        "outputId": "e2f0b3ae-bdaa-453d-f2ab-e01b464cfd86"
      },
      "execution_count": 26,
      "outputs": [
        {
          "output_type": "stream",
          "name": "stdout",
          "text": [
            "Grados f: 100.4\n",
            "C:  38.0\n"
          ]
        }
      ]
    },
    {
      "cell_type": "code",
      "source": [
        "# Hacer de Grados Celsius a Kelvin XD\n",
        "\n",
        "def CelciusaKelvin(c):\n",
        "  return c + 273.15"
      ],
      "metadata": {
        "id": "buAvEukPfAF-"
      },
      "execution_count": 27,
      "outputs": []
    },
    {
      "cell_type": "code",
      "source": [
        "c = int(input(\"Grados c: \"))\n",
        "k = CelciusaKelvin(c)\n",
        "print(\"K: \", k)"
      ],
      "metadata": {
        "colab": {
          "base_uri": "https://localhost:8080/"
        },
        "id": "oUe8lnYjfYSA",
        "outputId": "58725d8d-9103-49c0-a5cf-4fe293810535"
      },
      "execution_count": 29,
      "outputs": [
        {
          "output_type": "stream",
          "name": "stdout",
          "text": [
            "Grados c: 34\n",
            "K:  307.15\n"
          ]
        }
      ]
    },
    {
      "cell_type": "code",
      "source": [
        "# Hacer un ejercicio que calcule el sueldo del empleado\n",
        "# segun el numero de horas trabajadas y el valor por hora\n",
        "\n",
        "def sueldo(hora, valorXhr):\n",
        "  sueldo = hora * valorXhr * 30\n",
        "  return sueldo"
      ],
      "metadata": {
        "id": "S5Xk6j7hhiKN"
      },
      "execution_count": 39,
      "outputs": []
    },
    {
      "cell_type": "code",
      "source": [
        "numerohoras = float(input(\"Hrs: \"))\n",
        "valorXhr = float(input(\"valor xhr: \"))\n",
        "sueldo = sueldo(numerohoras, valorXhr)\n",
        "\n",
        "print(\"Sueldo: \", sueldo)"
      ],
      "metadata": {
        "colab": {
          "base_uri": "https://localhost:8080/"
        },
        "id": "eyKshm-pihCX",
        "outputId": "1e592315-5b12-4d0b-d0fa-e4862012b0f6"
      },
      "execution_count": 40,
      "outputs": [
        {
          "output_type": "stream",
          "name": "stdout",
          "text": [
            "Hrs: 8\n",
            "valor xhr: 10\n",
            "Sueldo:  2400.0\n"
          ]
        }
      ]
    },
    {
      "cell_type": "code",
      "source": [
        "# Hacer un ejercicio que permita elevar un numero a un exponente\n",
        "\n",
        "def elevar(b,e):\n",
        "  return b**e"
      ],
      "metadata": {
        "id": "bAFNzwt-i0Tt"
      },
      "execution_count": 46,
      "outputs": []
    },
    {
      "cell_type": "code",
      "source": [
        "b = float(input(\"Ingrese la base: \"))\n",
        "e = float(input(\"Ingrese el exponente: \"))\n",
        "\n",
        "respuesta = elevar(b, e)\n",
        "print(\"el numero\", b, \",elevado el exponentre\",e, \"es:\",respuesta)\n"
      ],
      "metadata": {
        "colab": {
          "base_uri": "https://localhost:8080/"
        },
        "id": "U33FeG3wkTcr",
        "outputId": "0e94f7df-5fc1-4448-d972-e29cc754a0fb"
      },
      "execution_count": 50,
      "outputs": [
        {
          "output_type": "stream",
          "name": "stdout",
          "text": [
            "Ingrese la base: 5\n",
            "Ingrese el exponente: 2\n",
            "el numero 5.0 ,elevado el exponentre 2.0 es: 25.0\n"
          ]
        }
      ]
    },
    {
      "cell_type": "markdown",
      "source": [],
      "metadata": {
        "id": "qjpNecZvjwop"
      }
    }
  ]
}