{
  "nbformat": 4,
  "nbformat_minor": 0,
  "metadata": {
    "colab": {
      "provenance": [],
      "authorship_tag": "ABX9TyMIMavxfhLKPLpwxBW9kIXS",
      "include_colab_link": true
    },
    "kernelspec": {
      "name": "python3",
      "display_name": "Python 3"
    },
    "language_info": {
      "name": "python"
    }
  },
  "cells": [
    {
      "cell_type": "markdown",
      "metadata": {
        "id": "view-in-github",
        "colab_type": "text"
      },
      "source": [
        "<a href=\"https://colab.research.google.com/github/JohnTakahashi2424/Python-Progra-lll/blob/main/introduccion_a_python.ipynb\" target=\"_parent\"><img src=\"https://colab.research.google.com/assets/colab-badge.svg\" alt=\"Open In Colab\"/></a>"
      ]
    },
    {
      "cell_type": "code",
      "execution_count": 2,
      "metadata": {
        "colab": {
          "base_uri": "https://localhost:8080/"
        },
        "id": "FV2nXebxb7PR",
        "outputId": "4a0a5816-de6b-4e75-b4fb-5ecd77218cdf"
      },
      "outputs": [
        {
          "output_type": "stream",
          "name": "stdout",
          "text": [
            "Hola Mundo\n",
            "Bienvenidos a Programacion computacional III\n"
          ]
        }
      ],
      "source": [
        "print(\"Hola Mundo\")\n",
        "print(\"Bienvenidos a Programacion computacional III\")"
      ]
    },
    {
      "cell_type": "code",
      "source": [
        "Nombre = 'La variable es:'\n",
        "edad = 5\n",
        "print('hola', Nombre)\n",
        "\n",
        "print(\"edad\")\n",
        "print(\"tu edad:\", edad)"
      ],
      "metadata": {
        "colab": {
          "base_uri": "https://localhost:8080/"
        },
        "id": "R_r9v88_dRC2",
        "outputId": "31584c5b-679e-4800-d446-f745e2baab68"
      },
      "execution_count": 18,
      "outputs": [
        {
          "output_type": "stream",
          "name": "stdout",
          "text": [
            "hola La variable es:\n",
            "edad\n",
            "tu edad: 5\n"
          ]
        }
      ]
    },
    {
      "cell_type": "code",
      "source": [
        "\n",
        "#Esto es una suma de dos numeros\n",
        "\n",
        "num1 = None\n",
        "num2 = None\n",
        "\n",
        "num1 = int(input(\"ingrese el primer numero de la suma: \"))\n",
        "num2 = int(input(\"Ingrese el segundo numero de la suma: \"))\n",
        "\n",
        "Respuesta = num1 + num2\n",
        "\n",
        "print(\"la respuesta de la suma es:\", Respuesta)\n",
        "print(\"tenga un buen dia :D\")\n",
        "\n",
        "#Esto es una resta de dos numeros\n",
        "\n",
        "a = None\n",
        "b = None\n",
        "\n",
        "a = int(input(\"Ingrese el primer numero para la resta: \"))\n",
        "b = int(input(\"ingrese el segunfo numero de la resta: \"))\n",
        "\n",
        "Respuesta = a - b\n",
        "\n",
        "print(\"la respuesta de la resta es: \", Respuesta)\n",
        "print(\"listo, definitivamente tenga un buen dia, ahora puede irse a la chingada\")"
      ],
      "metadata": {
        "colab": {
          "base_uri": "https://localhost:8080/"
        },
        "id": "jxbOXCuDewG9",
        "outputId": "1d9c911b-025c-48f4-8acb-c80e60498f40"
      },
      "execution_count": 32,
      "outputs": [
        {
          "output_type": "stream",
          "name": "stdout",
          "text": [
            "ingrese el primer numero de la suma: 4\n",
            "Ingrese el segundo numero de la suma: 2\n",
            "la respuesta de la suma es: 6\n",
            "tenga un buen dia :D\n",
            "Ingrese el primer numero para la resta: 5\n",
            "ingrese el segunfo numero de la resta: 5\n",
            "la respuesta de la resta es:  0\n",
            "listo, definitivamente tenga un buen dia, ahora puede irse a la chingada\n"
          ]
        }
      ]
    },
    {
      "cell_type": "code",
      "source": [],
      "metadata": {
        "id": "VdfHlScjh3BI"
      },
      "execution_count": null,
      "outputs": []
    }
  ]
}