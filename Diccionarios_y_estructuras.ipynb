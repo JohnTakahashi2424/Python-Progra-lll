{
  "nbformat": 4,
  "nbformat_minor": 0,
  "metadata": {
    "colab": {
      "provenance": [],
      "authorship_tag": "ABX9TyM9D6Q9TL8LbH3fzyppnT2e",
      "include_colab_link": true
    },
    "kernelspec": {
      "name": "python3",
      "display_name": "Python 3"
    },
    "language_info": {
      "name": "python"
    }
  },
  "cells": [
    {
      "cell_type": "markdown",
      "metadata": {
        "id": "view-in-github",
        "colab_type": "text"
      },
      "source": [
        "<a href=\"https://colab.research.google.com/github/JohnTakahashi2424/Python-Progra-lll/blob/main/Diccionarios_y_estructuras.ipynb\" target=\"_parent\"><img src=\"https://colab.research.google.com/assets/colab-badge.svg\" alt=\"Open In Colab\"/></a>"
      ]
    },
    {
      "cell_type": "code",
      "execution_count": null,
      "metadata": {
        "id": "FV2nXebxb7PR"
      },
      "outputs": [],
      "source": [
        "print(\"Hola Mundo\")\n",
        "print(\"Bienvenidos a Programacion computacional III\")"
      ]
    },
    {
      "cell_type": "code",
      "source": [
        "Nombre = 'La variable es:'\n",
        "edad = 5\n",
        "print('hola', Nombre)\n",
        "\n",
        "print(\"edad\")\n",
        "print(\"tu edad:\", edad)"
      ],
      "metadata": {
        "id": "R_r9v88_dRC2"
      },
      "execution_count": null,
      "outputs": []
    },
    {
      "cell_type": "code",
      "source": [
        "\n",
        "#Esto es una suma de dos numeros\n",
        "\n",
        "num1 = None\n",
        "num2 = None\n",
        "\n",
        "num1 = int(input(\"ingrese el primer numero de la suma: \"))\n",
        "num2 = int(input(\"Ingrese el segundo numero de la suma: \"))\n",
        "\n",
        "Respuesta = num1 + num2\n",
        "\n",
        "print(\"la respuesta de la suma es:\", Respuesta)\n",
        "print(\"tenga un buen dia :D\")\n",
        "\n",
        "#Esto es una resta de dos numeros\n",
        "\n",
        "a = None\n",
        "b = None\n",
        "\n",
        "a = int(input(\"Ingrese el primer numero para la resta: \"))\n",
        "b = int(input(\"ingrese el segunfo numero de la resta: \"))\n",
        "\n",
        "Respuesta = a - b\n",
        "\n",
        "print(\"la respuesta de la resta es: \", Respuesta)\n",
        "print(\"listo, definitivamente tenga un buen dia, ahora puede irse a la chingada\")"
      ],
      "metadata": {
        "id": "jxbOXCuDewG9"
      },
      "execution_count": null,
      "outputs": []
    },
    {
      "cell_type": "code",
      "source": [],
      "metadata": {
        "id": "VdfHlScjh3BI"
      },
      "execution_count": null,
      "outputs": []
    },
    {
      "cell_type": "code",
      "metadata": {
        "id": "7d172761"
      },
      "source": [
        "# Example 1: Basic arithmetic operations\n",
        "x = 10\n",
        "y = 5\n",
        "print(\"Sum:\", x + y)\n",
        "print(\"Difference:\", x - y)\n",
        "print(\"Product:\", x * y)\n",
        "print(\"Division:\", x / y)"
      ],
      "execution_count": null,
      "outputs": []
    },
    {
      "cell_type": "code",
      "metadata": {
        "id": "d48ed9c7"
      },
      "source": [
        "# Example 2: Using loops\n",
        "print(\"Counting from 1 to 5:\")\n",
        "for i in range(1, 6):\n",
        "  print(i)\n",
        "\n",
        "print(\"\\nPrinting elements in a list:\")\n",
        "fruits = [\"apple\", \"banana\", \"cherry\"]\n",
        "for fruit in fruits:\n",
        "  print(fruit)"
      ],
      "execution_count": null,
      "outputs": []
    },
    {
      "cell_type": "code",
      "metadata": {
        "id": "9875f8e7"
      },
      "source": [
        "# Example 3: Using conditional statements\n",
        "temperature = 25\n",
        "\n",
        "if temperature > 30:\n",
        "  print(\"It's hot!\")\n",
        "elif temperature > 20:\n",
        "  print(\"It's warm.\")\n",
        "else:\n",
        "  print(\"It's cool.\")\n"
      ],
      "execution_count": null,
      "outputs": []
    },
    {
      "cell_type": "code",
      "source": [
        "print(\"Hola\")\n",
        "Edad  = None\n",
        "Edad  = input(\"Ingrese su edad: \")\n",
        "print(\"Su edad es:\", Edad)\n",
        "\n",
        "#Decimal\n",
        "Numero = 6.8"
      ],
      "metadata": {
        "id": "XzcwsK9cKyxY",
        "collapsed": true
      },
      "execution_count": null,
      "outputs": []
    },
    {
      "cell_type": "code",
      "source": [
        "#Restas\n",
        "res1 = int(input(\"ingrese el primer numero: \"))\n",
        "res2 = int(input(\"ingrese el segundo numero: \"))\n",
        "\n",
        "Respuesta = res1 - res2\n",
        "print(\"la resta de los numeros es:\", Respuesta)\n",
        "\n"
      ],
      "metadata": {
        "id": "Xcqr_XDDYbRH"
      },
      "execution_count": null,
      "outputs": []
    },
    {
      "cell_type": "code",
      "source": [
        "6def restar_dos_numeros():\n",
        "    num1 = int(input(\"Ingrese el primer número: \"))\n",
        "    num2 = int(input(\"Ingrese el segundo número: \"))\n",
        "    return num1 - num2\n",
        "\n",
        "# Usando el resultado\n",
        "resultado = restar_dos_numeros()\n",
        "print(\"La resta de los números es:\", resultado)\n"
      ],
      "metadata": {
        "id": "lFodxvzAZo1-"
      },
      "execution_count": null,
      "outputs": []
    },
    {
      "cell_type": "code",
      "source": [
        "#Hacer un ejercicio en python haciendo uso de funciones de usuario. Convertir grados celcius a Farenheit\n",
        "\n",
        "def CelciusaFarenheit(c):\n",
        "  return c*1.8 + 32"
      ],
      "metadata": {
        "id": "H_RhnXSjVMxV"
      },
      "execution_count": null,
      "outputs": []
    },
    {
      "cell_type": "code",
      "source": [
        "c = int(input(\"Grados c: \"))\n",
        "f = CelciusaFarenheit(c)\n",
        "print(\"F: \", f)"
      ],
      "metadata": {
        "colab": {
          "base_uri": "https://localhost:8080/"
        },
        "id": "FY_-rnJBYZix",
        "outputId": "cc439971-b376-4896-ec09-233e4a3ed971"
      },
      "execution_count": null,
      "outputs": [
        {
          "output_type": "stream",
          "name": "stdout",
          "text": [
            "Grados c: 6\n",
            "F:  42.8\n"
          ]
        }
      ]
    },
    {
      "cell_type": "code",
      "metadata": {
        "id": "681d3266"
      },
      "source": [
        "# Hacer un ejercicio que convierta los grados Farenheit a Celsius\n",
        "\n",
        "def FarenheitCelsius(f):\n",
        "  return (f - 32) * 5/9"
      ],
      "execution_count": null,
      "outputs": []
    },
    {
      "cell_type": "code",
      "source": [
        "f = float(input(\"Grados f: \"))\n",
        "c = FarenheitCelsius(f)\n",
        "print(\"C: \", c)"
      ],
      "metadata": {
        "colab": {
          "base_uri": "https://localhost:8080/"
        },
        "id": "58KkdALObAPL",
        "outputId": "e2f0b3ae-bdaa-453d-f2ab-e01b464cfd86"
      },
      "execution_count": null,
      "outputs": [
        {
          "output_type": "stream",
          "name": "stdout",
          "text": [
            "Grados f: 100.4\n",
            "C:  38.0\n"
          ]
        }
      ]
    },
    {
      "cell_type": "code",
      "source": [
        "# Hacer de Grados Celsius a Kelvin XD\n",
        "\n",
        "def CelciusaKelvin(c):\n",
        "  return c + 273.15"
      ],
      "metadata": {
        "id": "buAvEukPfAF-"
      },
      "execution_count": null,
      "outputs": []
    },
    {
      "cell_type": "code",
      "source": [
        "c = int(input(\"Grados c: \"))\n",
        "k = CelciusaKelvin(c)\n",
        "print(\"K: \", k)"
      ],
      "metadata": {
        "colab": {
          "base_uri": "https://localhost:8080/"
        },
        "id": "oUe8lnYjfYSA",
        "outputId": "58725d8d-9103-49c0-a5cf-4fe293810535"
      },
      "execution_count": null,
      "outputs": [
        {
          "output_type": "stream",
          "name": "stdout",
          "text": [
            "Grados c: 34\n",
            "K:  307.15\n"
          ]
        }
      ]
    },
    {
      "cell_type": "code",
      "source": [
        "# Hacer un ejercicio que calcule el sueldo del empleado\n",
        "# segun el numero de horas trabajadas y el valor por hora\n",
        "\n",
        "def sueldo(hora, valorXhr):\n",
        "  sueldo = hora * valorXhr * 30\n",
        "  return sueldo"
      ],
      "metadata": {
        "id": "S5Xk6j7hhiKN"
      },
      "execution_count": null,
      "outputs": []
    },
    {
      "cell_type": "code",
      "source": [
        "numerohoras = float(input(\"Hrs: \"))\n",
        "valorXhr = float(input(\"valor xhr: \"))\n",
        "sueldo = sueldo(numerohoras, valorXhr)\n",
        "\n",
        "print(\"Sueldo: \", sueldo)"
      ],
      "metadata": {
        "colab": {
          "base_uri": "https://localhost:8080/"
        },
        "id": "eyKshm-pihCX",
        "outputId": "1e592315-5b12-4d0b-d0fa-e4862012b0f6"
      },
      "execution_count": null,
      "outputs": [
        {
          "output_type": "stream",
          "name": "stdout",
          "text": [
            "Hrs: 8\n",
            "valor xhr: 10\n",
            "Sueldo:  2400.0\n"
          ]
        }
      ]
    },
    {
      "cell_type": "code",
      "source": [
        "# Hacer un ejercicio que permita elevar un numero a un exponente\n",
        "\n",
        "def elevar(b,e):\n",
        "  return b**e"
      ],
      "metadata": {
        "id": "bAFNzwt-i0Tt"
      },
      "execution_count": null,
      "outputs": []
    },
    {
      "cell_type": "code",
      "source": [
        "b = float(input(\"Ingrese la base: \"))\n",
        "e = float(input(\"Ingrese el exponente: \"))\n",
        "\n",
        "respuesta = elevar(b, e)\n",
        "print(\"el numero\", b, \",elevado el exponentre\",e, \"es:\",respuesta)\n"
      ],
      "metadata": {
        "colab": {
          "base_uri": "https://localhost:8080/"
        },
        "id": "U33FeG3wkTcr",
        "outputId": "0e94f7df-5fc1-4448-d972-e29cc754a0fb"
      },
      "execution_count": null,
      "outputs": [
        {
          "output_type": "stream",
          "name": "stdout",
          "text": [
            "Ingrese la base: 5\n",
            "Ingrese el exponente: 2\n",
            "el numero 5.0 ,elevado el exponentre 2.0 es: 25.0\n"
          ]
        }
      ]
    },
    {
      "cell_type": "code",
      "source": [
        "#Funciones Anonimas\n",
        "def suma(a, b):\n",
        "  return a+b\n"
      ],
      "metadata": {
        "id": "bpHYckFeP_rZ"
      },
      "execution_count": null,
      "outputs": []
    },
    {
      "cell_type": "code",
      "source": [
        "# Función anónima con lambda\n",
        "a = float(input(\"Ingrese el primer número: \"))\n",
        "b = float(input(\"Ingrese el segundo número: \"))\n",
        "\n",
        "suma_lambda = lambda x, y: x + y\n",
        "\n",
        "print(\"La suma de\", a, \"más\", b, \"es igual a\", suma_lambda(a, b))"
      ],
      "metadata": {
        "colab": {
          "base_uri": "https://localhost:8080/"
        },
        "id": "hbfIc3KjQ3ki",
        "outputId": "7b85e66b-92fe-44f9-985c-e98ebc193bfc"
      },
      "execution_count": null,
      "outputs": [
        {
          "output_type": "stream",
          "name": "stdout",
          "text": [
            "Ingrese el primer número: 32\n",
            "Ingrese el segundo número: 12\n",
            "La suma de 32.0 más 12.0 es igual a 44.0\n"
          ]
        }
      ]
    },
    {
      "cell_type": "code",
      "source": [
        "def extraerValordia(dia):\n",
        "  return dia[0]"
      ],
      "metadata": {
        "id": "Hf5ZSfMSTDLM"
      },
      "execution_count": null,
      "outputs": []
    },
    {
      "cell_type": "code",
      "source": [
        "# Lista de días\n",
        "semana = [\"Domingo\", \"Lunes\", \"Martes\", \"Miercoles\", \"Jueves\", \"Viernes\", \"Sabado\"]\n",
        "\n",
        "# Primer carácter en mayúscula\n",
        "primerValorsemana = map(lambda dia: dia.upper()[0], semana)\n",
        "print(list(primerValorsemana))\n",
        "\n",
        "# Todos los días en mayúsculas\n",
        "mayusSemana = map(lambda dia: dia.upper(), semana)\n",
        "print(list(mayusSemana))\n",
        "\n",
        "# Usando la función\n",
        "print(list(map(extraerValordia, semana)))\n"
      ],
      "metadata": {
        "colab": {
          "base_uri": "https://localhost:8080/"
        },
        "id": "j-AqUQAfSWEY",
        "outputId": "03242d1d-bcd4-407b-e216-c23154b46474"
      },
      "execution_count": null,
      "outputs": [
        {
          "output_type": "stream",
          "name": "stdout",
          "text": [
            "['D', 'L', 'M', 'M', 'J', 'V', 'S']\n",
            "['DOMINGO', 'LUNES', 'MARTES', 'MIERCOLES', 'JUEVES', 'VIERNES', 'SABADO']\n",
            "['D', 'L', 'M', 'M', 'J', 'V', 'S']\n"
          ]
        }
      ]
    },
    {
      "cell_type": "code",
      "source": [
        "numero = [2, 4, 6, 8, 9]\n",
        "potencia = int(input(\"potencia: \"))\n",
        "numeropotencia = map(lambda n: n**potencia, numero)\n",
        "\n",
        "print(list(numeropotencia))"
      ],
      "metadata": {
        "colab": {
          "base_uri": "https://localhost:8080/"
        },
        "id": "jVRdybRXUNHX",
        "outputId": "2a981568-92a9-4465-a42a-88eca2062e30"
      },
      "execution_count": null,
      "outputs": [
        {
          "output_type": "stream",
          "name": "stdout",
          "text": [
            "potencia: 2\n",
            "[4, 16, 36, 64, 81]\n"
          ]
        }
      ]
    },
    {
      "cell_type": "code",
      "source": [
        "ntabla = int(input(\"Tabla: \"))\n",
        "numeros = [1,2,3,4,5,6,7,8,9,10]\n",
        "\n",
        "tabla = map(lambda num: num * ntabla, numeros)\n",
        "\n",
        "print(list(tabla))\n"
      ],
      "metadata": {
        "colab": {
          "base_uri": "https://localhost:8080/"
        },
        "id": "Tvn1eIuIVWEA",
        "outputId": "71be6e43-8bf0-4d8f-fef6-52e41cd72640"
      },
      "execution_count": null,
      "outputs": [
        {
          "output_type": "stream",
          "name": "stdout",
          "text": [
            "Tabla: 6\n",
            "[6, 12, 18, 24, 30, 36, 42, 48, 54, 60]\n"
          ]
        }
      ]
    },
    {
      "cell_type": "code",
      "source": [
        "seriedenum = [1,2,3,4,5,6,7,8,9,10]\n",
        "pares = filter(lambda num: num%2==0, seriedenum)\n",
        "\n",
        "print(list(pares))\n",
        "\n",
        "impares = filter(lambda num: num%2!=0, seriedenum)\n",
        "\n",
        "print(list(impares))\n"
      ],
      "metadata": {
        "colab": {
          "base_uri": "https://localhost:8080/"
        },
        "id": "ESQYTs4cWPIA",
        "outputId": "a51a0c4a-b595-433b-cb66-06d242d3c95b"
      },
      "execution_count": null,
      "outputs": [
        {
          "output_type": "stream",
          "name": "stdout",
          "text": [
            "[2, 4, 6, 8, 10]\n",
            "[1, 3, 5, 7, 9]\n"
          ]
        }
      ]
    },
    {
      "cell_type": "code",
      "source": [
        "numserie = input(\"La serie (ej: 5,2,8,1,4): \")\n",
        "numserie = numserie.split(\",\")  # lista de strings\n",
        "\n",
        "# Filtrar solo pares\n",
        "pares = filter(lambda num: int(num) % 2 == 0, numserie)\n",
        "impares = filter(lambda num: int(num) % 2 != 0, numserie)\n",
        "\n",
        "print(\"Estos números son pares:\", list(pares))\n",
        "print(\"Estos números son impares:\", list(impares))"
      ],
      "metadata": {
        "colab": {
          "base_uri": "https://localhost:8080/"
        },
        "id": "4vP3U9iiXbTm",
        "outputId": "fa763578-4441-47fc-b2d7-b18af3664e34"
      },
      "execution_count": null,
      "outputs": [
        {
          "output_type": "stream",
          "name": "stdout",
          "text": [
            "La serie (ej: 5,2,8,1,4): 5,2,8,1,4\n",
            "Estos números son pares: ['2', '8', '4']\n",
            "Estos números son impares: ['5', '1']\n"
          ]
        }
      ]
    },
    {
      "cell_type": "code",
      "source": [
        "alumnos = {\"Ana\": 8,  \"Luis\": 5,  \"Pedro\": 6,  \"Maria\": 4, \"Nayibbukele\": 5}\n",
        "\n",
        "aprobados = filter(lambda alumno: alumno[1] >= 6, alumnos.items())\n",
        "reprobados = filter(lambda alumno: alumno[1] < 6, alumnos.items())\n",
        "\n",
        "print(\"Aprobados:\", list(aprobados))\n",
        "print(\"Reprobados:\", list(reprobados))"
      ],
      "metadata": {
        "colab": {
          "base_uri": "https://localhost:8080/"
        },
        "id": "0f1FiaWMdJzS",
        "outputId": "4ac83bef-3535-4cbe-d6cd-86e8fe898f93"
      },
      "execution_count": null,
      "outputs": [
        {
          "output_type": "stream",
          "name": "stdout",
          "text": [
            "Aprobados: [('Ana', 8), ('Pedro', 6)]\n",
            "Reprobados: [('Luis', 5), ('Maria', 4), ('Nayibbukele', 5)]\n"
          ]
        }
      ]
    },
    {
      "cell_type": "code",
      "source": [
        "#reduce\n",
        "from functools import reduce\n",
        "\n",
        "numeros = [1,2,3,4,5,6,7,8,9]\n",
        "suma = reduce(lambda acum, num: num+acum, numeros)\n",
        "\n",
        "sumaPares = reduce(lambda acum, num: num+acum, filter(lambda num: num%2==0, numeros))\n",
        "sumaImpar = reduce(lambda acum, num: acum + num if num%2==0 else acum, numeros,0)\n",
        "\n",
        "print(\"La suma es:\", suma)\n",
        "print(\"la suma de los pares es\", sumaPares)\n",
        "print(\"suma pares: \", sumaImpar)"
      ],
      "metadata": {
        "id": "QaXB-zrUfU62",
        "colab": {
          "base_uri": "https://localhost:8080/"
        },
        "outputId": "5899f20e-ee7a-49ab-e694-115df731b907"
      },
      "execution_count": null,
      "outputs": [
        {
          "output_type": "stream",
          "name": "stdout",
          "text": [
            "La suma es: 45\n",
            "la suma de los pares es 20\n",
            "suma pares:  20\n"
          ]
        }
      ]
    },
    {
      "cell_type": "code",
      "source": [
        "tupla = (5,2,3,4,7,8)\n",
        "#tupla[0] = 1\n",
        "print(\"Tupla: \", tupla, \"primer elemento \", tupla[0], \"El numero 5 aparece\", tupla.count(5), \"veces\")\n",
        "print(\"Ultimo Elemento: \", tupla[-1])\n",
        "print(\"Rango: \", tupla[0:5])"
      ],
      "metadata": {
        "colab": {
          "base_uri": "https://localhost:8080/"
        },
        "id": "4rjGV87jiAdZ",
        "outputId": "06c1a901-331f-4c8c-a763-57c52b5074a7"
      },
      "execution_count": null,
      "outputs": [
        {
          "output_type": "stream",
          "name": "stdout",
          "text": [
            "Tupla:  (5, 2, 3, 4, 7, 8) primer elemento  5 El numero 5 aparece 1 veces\n",
            "Ultimo Elemento:  8\n",
            "Rango:  (5, 2, 3, 4, 7)\n"
          ]
        }
      ]
    },
    {
      "cell_type": "code",
      "source": [
        "import datetime\n",
        "fecha = datetime.date.today()\n",
        "\n",
        "semana = (\"domingo\", \"lunes\", \"martes\", \"miercoles\", \"jueves\", \"viernes\", \"sabado\")\n",
        "mes = (\"\", \"enero\", \"febrero\", \"marzo\", \"abril\", \"mayo\", \"junio\", \"julio\", \"agosto\", \"septiembre\", \"octubre\", \"noviembre\", \"diciembre\")\n",
        "dia = fecha.day\n",
        "mes = fecha.month\n",
        "year = fecha.year\n",
        "diasemana = semana[fecha.isoweekday()]\n",
        "\n",
        "print(diasemana, dia, \"de\", mes, \"del\", year)\n",
        "print(fecha, fecha.isoweekday(), diasemana)\n",
        "print(dia, mes, year)\n"
      ],
      "metadata": {
        "colab": {
          "base_uri": "https://localhost:8080/"
        },
        "id": "_2Ho-18divJG",
        "outputId": "af4cd94d-f559-40a1-b534-8aa0cad3dc82"
      },
      "execution_count": null,
      "outputs": [
        {
          "output_type": "stream",
          "name": "stdout",
          "text": [
            "martes 12 de 8 del 2025\n",
            "2025-08-12 2 martes\n",
            "12 8 2025\n"
          ]
        }
      ]
    },
    {
      "cell_type": "code",
      "source": [
        "lista = [5,8,9,4, \"Progra III\", True, [4,8,9, [8,9,4]]]\n",
        "print(lista)"
      ],
      "metadata": {
        "colab": {
          "base_uri": "https://localhost:8080/"
        },
        "id": "t1OGdh6pmaFb",
        "outputId": "1d90e0a0-154c-40b2-a69c-05de0f367493"
      },
      "execution_count": 3,
      "outputs": [
        {
          "output_type": "stream",
          "name": "stdout",
          "text": [
            "[5, 8, 9, 4, 'Progra III', True, [4, 8, 9, [8, 9, 4]]]\n"
          ]
        }
      ]
    },
    {
      "cell_type": "code",
      "source": [
        "def calcularPromedio(nota, notas):\n",
        "  return notas[1]*notas[2] + nota # 8*0.3 + 9*0.3 + 10*0.3"
      ],
      "metadata": {
        "id": "3gJJ-76YnbQD"
      },
      "execution_count": 4,
      "outputs": []
    },
    {
      "cell_type": "code",
      "source": [
        "#Hacer un ejercicio en python que obtenga la nota final de Progra III del computo I, haciendo uso de las listas y de las funciones.\n",
        "from functools import reduce\n",
        "#estudiante...\n",
        "notas = [\n",
        "    [\"Lab1\", 10, 0.3],\n",
        "    [\"Lab2\", 10, 0.3],\n",
        "    [\"Parcial1\", 10, 0.4],\n",
        "\n",
        "    [\"Lab1\", 10, 0.3],\n",
        "    [\"Lab2\", 10, 0.3],\n",
        "    [\"Parcial2\", 10, 0.4],\n",
        "\n",
        "    [\"Lab1\", 10, 0.3],\n",
        "    [\"Lab2\", 10, 0.3],\n",
        "    [\"Parcial3\", 10, 0.4]\n",
        "  ]\n",
        "prom = reduce(calcularPromedio, notas, 0)\n",
        "nf = prom / 3\n",
        "print(\"Nota Final de Progra III: \", nf)"
      ],
      "metadata": {
        "colab": {
          "base_uri": "https://localhost:8080/"
        },
        "id": "cwtQ6Tx0nE6s",
        "outputId": "745ad2d9-c972-44cb-c828-0b9a8d6ca543"
      },
      "execution_count": 6,
      "outputs": [
        {
          "output_type": "stream",
          "name": "stdout",
          "text": [
            "Nota Final de Progra III:  10.0\n"
          ]
        }
      ]
    },
    {
      "cell_type": "code",
      "source": [
        "#Hacer un ejercicio en python que obtenga la nota final de Progra III del computo I,\n",
        "#donde el usuario va introducir las notas, haciendo uso de las listas y de las funciones.\n",
        "from functools import reduce\n",
        "\n",
        "notas = []\n",
        "for i in range(1,4):\n",
        "  nota = float(input(\"Act: \"+ str(i) + \": \"))\n",
        "  porcentaje = float(input(\"Porcentaje: \"))\n",
        "  notas.append([\"Act. \"+ str(i), nota, porcentaje])\n",
        "\n",
        "prom = reduce(calcularPromedio, notas, 0)\n",
        "print(\"Nota Final de C1 \", prom)\n"
      ],
      "metadata": {
        "colab": {
          "base_uri": "https://localhost:8080/"
        },
        "id": "v9xmNoN5siJh",
        "outputId": "7e59e986-dffc-42b3-c9f2-53ce9ceb3e33"
      },
      "execution_count": 8,
      "outputs": [
        {
          "output_type": "stream",
          "name": "stdout",
          "text": [
            "Act: 1: 5\n",
            "Porcentaje: 0.3\n",
            "Act: 2: 6\n",
            "Porcentaje: 0.30\n",
            "Act: 3: 9\n",
            "Porcentaje: 0.4\n",
            "Nota Final de C1  6.9\n"
          ]
        }
      ]
    },
    {
      "cell_type": "code",
      "source": [
        "#sort\n",
        "valores = [5,8,9,1,3,4,7]\n",
        "\n",
        "print(valores, \"Lista original\")\n",
        "\n",
        "valores.sort()\n",
        "print(valores, \"POrdenados de menor a mayor\")\n",
        "\n",
        "valores.reverse()\n",
        "print(valores, \"Ordenados de mayor a menor\")\n",
        "\n",
        "#valores.sort(reverse=True)\n",
        "#print(valores, \"Ordenados de mayor a menor\")"
      ],
      "metadata": {
        "colab": {
          "base_uri": "https://localhost:8080/"
        },
        "id": "i9sMhIadVy0m",
        "outputId": "f85f427f-125a-4479-c85d-7bd817b60c2a"
      },
      "execution_count": 9,
      "outputs": [
        {
          "output_type": "stream",
          "name": "stdout",
          "text": [
            "[5, 8, 9, 1, 3, 4, 7] Lista original\n",
            "[1, 3, 4, 5, 7, 8, 9] POrdenados de menor a mayor\n",
            "[9, 8, 7, 5, 4, 3, 1] Ordenados de mayor a menor\n"
          ]
        }
      ]
    },
    {
      "cell_type": "code",
      "source": [
        "persona = {\n",
        "  \"codigo\": \"USSS012223\",\n",
        "  \"nombre\": \"Jonathan Guandique\",\n",
        "  \"materias\": [\n",
        "    {\n",
        "      \"codigo\": 611,\n",
        "      \"nombre\": \"Programacion III\",\n",
        "      \"notas\":{\n",
        "        \"c1\": {\"lab1\":8, \"lab2\":9.9, \"parcial\":10},\n",
        "        \"c2\": {\"lab1\":7.78, \"lab2\":6.5, \"parcial\":8},\n",
        "        \"c3\": {\"lab1\":10, \"lab2\":9, \"parcial\":9}\n",
        "      }\n",
        "    },\n",
        "    {\n",
        "      \"codigo\": 612,\n",
        "      \"nombre\": \"Programacion II\",\n",
        "      \"notas\":{\n",
        "        \"c1\": {\"lab1\":5, \"lab2\": 7, \"parcial\":9},\n",
        "        \"c2\": {\"lab1\":9, \"lab2\": 6, \"parcial\": 10},\n",
        "        \"c3\": {\"lab1\":10, \"lab2\": 10, \"parcial\": 9}\n",
        "      }\n",
        "    }\n",
        "  ]\n",
        "}\n",
        "print(persona[\"nombre\"], \"->\", persona[\"materias\"][0][\"nombre\"], \"-> CI: \",\n",
        "      persona[\"materias\"][0][\"notas\"][\"c1\"],\n",
        "      persona[\"materias\"][0][\"notas\"][\"c1\"][\"lab1\"]\n",
        "      )"
      ],
      "metadata": {
        "colab": {
          "base_uri": "https://localhost:8080/"
        },
        "id": "zdrwIpx7W8wd",
        "outputId": "2d5b04b7-2f78-4791-b5f8-b3a0a6dda0f1"
      },
      "execution_count": 13,
      "outputs": [
        {
          "output_type": "stream",
          "name": "stdout",
          "text": [
            "Jonathan Guandique -> Programacion III -> CI:  {'lab1': 8, 'lab2': 9.9, 'parcial': 10} 8\n"
          ]
        }
      ]
    },
    {
      "cell_type": "code",
      "source": [
        "#if\n",
        "#hacer un ejercicio en python que permita clasificar las edades segun su rango\n",
        "edad = int(input(\"Edad: \"))\n",
        "if(edad<0):\n",
        "  print(\"Error al ingresar la edad, solo valores positivos.\")\n",
        "elif(edad<=2):\n",
        "  print(\"Eres un bebe...\")\n",
        "elif(edad<=11):\n",
        "  print(\"Eres un niño...\")\n",
        "elif(edad<18):\n",
        "  print(\"Eres un adolescente...\")\n",
        "elif(edad<65):\n",
        "  print(\"Eres un adulto responsable...\")\n",
        "elif(edad<85):\n",
        "  print(\"Eres un adulto mayor...\")\n",
        "else:\n",
        "  print(\"Ya casi te mueres xd\")"
      ],
      "metadata": {
        "id": "iXOKSFMUW9oP"
      },
      "execution_count": null,
      "outputs": []
    }
  ]
}